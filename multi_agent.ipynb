{
 "cells": [
  {
   "cell_type": "code",
   "execution_count": 1,
   "metadata": {},
   "outputs": [],
   "source": [
    "import numpy as np\n",
    "import math\n",
    "import heapq\n",
    "import ray\n",
    "from ray.rllib.env.multi_agent_env import MultiAgentEnv\n",
    "from gym.spaces import Discrete, MultiDiscrete, Dict\n",
    "from ray import tune, air\n",
    "from ray.rllib.algorithms.ppo import PPOConfig\n",
    "import seaborn as sns\n",
    "import matplotlib.pyplot as plt\n",
    "import matplotlib.cm as cm\n",
    "from ray.tune.registry import register_env\n",
    "from ray.rllib.utils.pre_checks.env import check_env"
   ]
  },
  {
   "cell_type": "code",
   "execution_count": 17,
   "metadata": {},
   "outputs": [],
   "source": [
    "# define the custom routing grid environment\n",
    "\n",
    "# action space encoding\n",
    "    # 0 - > move up\n",
    "    # 1 - > move down\n",
    "    # 2 - > move right\n",
    "    # 3 - > move left\n",
    "# state (observation) space encoding\n",
    "    # state[0:1] = current agent position\n",
    "    # state[2:3] = current goal position\n",
    "    # state[4:7] = capacities of the four neighboring edges of the current agent position. Namely, up, right, down, and left\n",
    "\n",
    "\n",
    "class RtGridEnv(MultiAgentEnv):\n",
    "    def __init__(self, length:int, width:int, nets:list, macros:list, edge_capacity:np.ndarray, max_step:int):\n",
    "        \"\"\"\n",
    "        Args:\n",
    "            length (int): length of the canvas\n",
    "            width (int): width of the canvas\n",
    "            nets (list): a list of nets to be routed\n",
    "            macros (list): a list of macros that has been placed on the canvas by placement\n",
    "        \"\"\"\n",
    "        #super().__init__()\n",
    "        self.length = length\n",
    "        self.width = width\n",
    "        self.nets = nets\n",
    "        self.n_nets = len(self.nets)\n",
    "        self.macros = macros\n",
    "        self.initial_capacity = edge_capacity.copy()\n",
    "        self.initial_capacity.setflags(write=False)\n",
    "        self.edge_capacity = edge_capacity.copy()\n",
    "        self.max_capacity = np.max(self.edge_capacity) + 1 # plus one to account for the behavior of gym.MultiDiscrete\n",
    "        self.max_step = max_step\n",
    "        self.step_counter = 0 # counts the number of steps elapsed for the current episode\n",
    "        \n",
    "        self.agents_id = []\n",
    "        for i in range(self.n_nets):\n",
    "            self.agents_id.append(\"agent_{}\".format(i))\n",
    "        self._agent_ids = set(self.agents_id)\n",
    "        self.state = {}\n",
    "        self.agent_position = {}\n",
    "        self.goal_position = {}\n",
    "        self.change_pin_flag = self.reset_flags({})\n",
    "        self.done_flag = self.reset_flags({})\n",
    "        #print(\"change pin flags \", self.change_pin_flag)\n",
    "        # the done flag needs an additional \"__all__\" key to indicate all agents are done\n",
    "        self.done_flag[\"__all__\"] = False\n",
    "        #print(\"done flags \", self.done_flag)\n",
    "        self.pin_counter = {}\n",
    "        self.reset_pin_counters()\n",
    "        self.path_x = self.generate_path(self.nets)\n",
    "        self.path_y = self.generate_path(self.nets)\n",
    "        #print(self.path_x)\n",
    "        self.decomposed_nets = {}\n",
    "        for i in range(self.n_nets): \n",
    "            self.decomposed_nets[self.agents_id[i]] = self.prim_mst(self.nets[i])\n",
    "        \n",
    "        # initialize the agent to route the first 2-pin net decomposed from the first multi-pin net\n",
    "        for agent_id in self.agents_id:\n",
    "            self.update_positions(agent_id)\n",
    "            self.update_path(agent_id)\n",
    "        #print(self.agent_position)\n",
    "        #print(self.goal_position)\n",
    "        # initialize the path lists\n",
    "        #for agent_id in self.agents_id:\n",
    "            #self.update_path(agent_id)\n",
    "        #print(self.path_x)\n",
    "        #print(self.path_y)\n",
    "        # define the action and the observation space\n",
    "        '''self.action_space = Dict()\n",
    "        self.observation_space = Dict()\n",
    "        for agent_id in self.agents_id:\n",
    "            self.action_space[agent_id] = Discrete(4)\n",
    "            self.observation_space[agent_id] = MultiDiscrete(\n",
    "                [\n",
    "                    self.length, \n",
    "                    self.width, \n",
    "                    self.length, \n",
    "                    self.width, \n",
    "                    self.max_capacity, \n",
    "                    self.max_capacity, \n",
    "                    self.max_capacity, \n",
    "                    self.max_capacity\n",
    "                ]\n",
    "            )'''\n",
    "        self.action_space = Discrete(4)\n",
    "        self.observation_space = MultiDiscrete([self.length, self.width, self.length, self.width, self.max_capacity, self.max_capacity, self.max_capacity, self.max_capacity])\n",
    "\n",
    "    def update_positions(self, agent_id:str):\n",
    "        \"\"\"\n",
    "        Update the agent position with the starting pin of the next 2-pin net.\n",
    "        Update the goal position with the new goal.\n",
    "        \"\"\"\n",
    "        self.agent_position[agent_id] = np.array(self.decomposed_nets[agent_id]['u'][self.pin_counter[agent_id]])\n",
    "        self.goal_position[agent_id] = np.array(self.decomposed_nets[agent_id]['v'][self.pin_counter[agent_id]])\n",
    "\n",
    "    def update_path(self, agent_id:str):\n",
    "        \"\"\"Update the path agent has traveled.\"\"\"\n",
    "        self.path_x[agent_id][self.pin_counter[agent_id]].append(self.agent_position[agent_id][0])\n",
    "        self.path_y[agent_id][self.pin_counter[agent_id]].append(self.agent_position[agent_id][1])\n",
    "\n",
    "    def reset_pin_counters(self):\n",
    "        \"\"\"Set the pin counter of each agent to 0.\"\"\"\n",
    "        for i in range(self.n_nets):\n",
    "            self.pin_counter[self.agents_id[i]] = 0\n",
    "    \n",
    "    def reset_flags(self, flags:dict):\n",
    "        for i in range(self.n_nets):\n",
    "            flags[self.agents_id[i]] = False\n",
    "\n",
    "        return flags\n",
    "\n",
    "    def generate_path(self, nets:list):\n",
    "        \"\"\"Generate the list data structure to hold the path traveled by the agent.\"\"\"\n",
    "        path = {}\n",
    "        for i in range(len(nets)):\n",
    "            path[self.agents_id[i]] = []\n",
    "            for j in range(len(nets[i])-1):\n",
    "                path[self.agents_id[i]].append([])\n",
    "\n",
    "        return path\n",
    "\n",
    "    def prim_mst(self, pins):\n",
    "        \"\"\"\n",
    "        Compute the Minimum Spanning Tree (MST) using Prim's algorithm.\n",
    "\n",
    "        Args:\n",
    "            pins (list): List of (x, y) coordinates representing the pin locations.\n",
    "\n",
    "        Returns:\n",
    "            dict: a dictionary containing the vertices of all the edges in the MST\n",
    "\n",
    "        Note:\n",
    "            - The pins list should contain at least two points.\n",
    "        \"\"\"\n",
    "\n",
    "        def euclidean_distance(p1, p2):\n",
    "            \"\"\"\n",
    "            Compute the Euclidean distance between two points.\n",
    "\n",
    "            Args:\n",
    "                p1 (tuple): First point (x, y) coordinates.\n",
    "                p2 (tuple): Second point (x, y) coordinates.\n",
    "\n",
    "            Returns:\n",
    "                float: Euclidean distance between the two points.\n",
    "            \"\"\"\n",
    "            x1, y1 = p1\n",
    "            x2, y2 = p2\n",
    "            return math.sqrt((x2 - x1) ** 2 + (y2 - y1) ** 2)\n",
    "        \n",
    "        distances = {}\n",
    "        for i in range(len(pins)):\n",
    "            for j in range(i+1, len(pins)):\n",
    "                p1 = pins[i]\n",
    "                p2 = pins[j]\n",
    "                distances[(i, j)] = euclidean_distance(p1, p2)\n",
    "                distances[(j, i)] = distances[(i, j)]  # Add symmetric distance\n",
    "        \n",
    "        # Initialize\n",
    "        num_pins = len(pins)\n",
    "        visited = [False] * num_pins\n",
    "        mst_u = []\n",
    "        mst_v = []\n",
    "        start_vertex = 0\n",
    "        visited[start_vertex] = True\n",
    "        \n",
    "        # Create a priority queue\n",
    "        pq = []\n",
    "        \n",
    "        # Mark the initial vertex as visited\n",
    "        for i in range(num_pins):\n",
    "            if i != start_vertex:\n",
    "                heapq.heappush(pq, (distances[(start_vertex, i)], start_vertex, i))\n",
    "        \n",
    "        # Update the priority queue and perform Prim's algorithm\n",
    "        while pq:\n",
    "            if (len(mst_u) == len(pins) -1): # for n pins, the MST should at most have n-1 edges\n",
    "                break\n",
    "\n",
    "            weight, u, v = heapq.heappop(pq)\n",
    "            \n",
    "            if visited[v]:\n",
    "                #print(f\"Skipping edge: {weight} - {u} - {v}\")\n",
    "                continue\n",
    "            \n",
    "            # Prim's algorithm iteration\n",
    "            visited[v] = True\n",
    "            mst_u.append(pins[u])\n",
    "            mst_v.append(pins[v])\n",
    "            \n",
    "            for i in range(num_pins):\n",
    "                if not visited[i]:\n",
    "                    heapq.heappush(pq, (distances[(v, i)], v, i))\n",
    "        \n",
    "        mst = {'u':mst_u,'v':mst_v}\n",
    "\n",
    "        return mst\n",
    "    \n",
    "    def update_capacity(self, agent_position:np.ndarray, action:int):\n",
    "        \"\"\"\n",
    "        Update the edge capacities after taking an action\n",
    "        \"\"\"\n",
    "\n",
    "        # reduce the capacity of the current node\n",
    "        self.edge_capacity[agent_position[0]][agent_position[1]][action] += -1\n",
    "\n",
    "        # reduce the capacity of the next node's corresponding edge\n",
    "        new_node = self.compute_new_position(agent_position, action)\n",
    "        corresponding_edge = (action + 2) % 4\n",
    "        self.edge_capacity[new_node[0]][new_node[1]][corresponding_edge] += -1\n",
    "        \n",
    "    def compute_new_position(self, agent_position:np.ndarray, action:int):\n",
    "        \"\"\"\n",
    "        Compute new agent positions\n",
    "        \"\"\"\n",
    "        if action == 0: # up\n",
    "            new_position = (agent_position[0], agent_position[1]+1)\n",
    "        elif action == 1: # right\n",
    "            new_position = (agent_position[0]+1, agent_position[1])\n",
    "        elif action == 2: # down\n",
    "            new_position = (agent_position[0], agent_position[1]-1)\n",
    "        elif action == 3: # left\n",
    "            new_position = (agent_position[0]-1, agent_position[1])\n",
    "        \n",
    "        return new_position\n",
    "    \n",
    "    def step(self, action:dict):\n",
    "        def check_move_validity(agent_position:np.ndarray, action:int):\n",
    "            \"\"\"\n",
    "            Check whether a move is valid by checking:\n",
    "            (1) the edge the move is about to use has capacity greater than 0\n",
    "            (2) the position after the move is not within macro regions\n",
    "            (3) the position after the move in within in the routing canvas\n",
    "            Returns True if the move is valid, False if invalid\n",
    "            \"\"\"\n",
    "            # capacity of the 4 neighboring edges of the current agent position\n",
    "            node_capacity = self.edge_capacity[agent_position[0]][agent_position[1]]\n",
    "\n",
    "            new_position = self.compute_new_position(agent_position, action)\n",
    "\n",
    "            macro_flag = new_position not in self.macros\n",
    "            bound_flag = new_position[0] in range(self.length) and new_position[1] in range(self.width)\n",
    "            capacity_flag = node_capacity[action] > 0\n",
    "\n",
    "            valid = macro_flag and bound_flag and capacity_flag\n",
    "\n",
    "            return valid\n",
    "        \n",
    "        # extract all the active agents in this time step\n",
    "        active_agent = list(action.keys())\n",
    "        # used for computing observations\n",
    "        initial_active_agent = list(action.keys())\n",
    "        #print(\"active agent \", active_agent)\n",
    "        reward = {}\n",
    "\n",
    "        # if we have reached our maximum time step, set the all done flag\n",
    "        self.step_counter += 1\n",
    "        if self.step_counter >= self.max_step:\n",
    "            for agent_id in active_agent:\n",
    "                reward[agent_id] = -1\n",
    "            self.done_flag[\"__all__\"] = True\n",
    "            #print(\"reward \", reward)\n",
    "            #print(\"done flags \", self.done_flag)\n",
    "            observation = {agent: self.state[agent] for agent in initial_active_agent if agent in self.state}\n",
    "            return observation, reward, self.done_flag, {}\n",
    "        \n",
    "        # update pins for those agents in need\n",
    "        # Only agents that have the change pin flag set to True AND are active, will be updated\n",
    "        pin_flag_agents = [key for key, value in self.change_pin_flag.items() if value]\n",
    "        pin_flag_agents = list(set(active_agent).intersection(set(pin_flag_agents)))\n",
    "        for agent_id in pin_flag_agents:\n",
    "            #print(agent_id)\n",
    "            self.update_positions(agent_id)\n",
    "            self.update_path(agent_id)\n",
    "            reward[agent_id] = 0\n",
    "            self.change_pin_flag[agent_id] = False\n",
    "            self.state[agent_id] = np.concatenate([\n",
    "                self.agent_position[agent_id], \n",
    "                self.goal_position[agent_id], \n",
    "                self.edge_capacity[self.agent_position[agent_id][0]][self.agent_position[agent_id][1]]\n",
    "                ])\n",
    "            active_agent.remove(agent_id) # de-active agents that undergoes pin-upgrading, such that they won't be unintentionally accessed\n",
    "\n",
    "        for agent_id in active_agent:\n",
    "            if check_move_validity(self.agent_position[agent_id], action[agent_id]):\n",
    "                self.update_capacity(self.agent_position[agent_id], action[agent_id])\n",
    "                self.agent_position[agent_id] = np.array(list(self.compute_new_position(self.agent_position[agent_id], action[agent_id])))\n",
    "                self.update_path(agent_id)\n",
    "\n",
    "            if np.array_equal(self.agent_position[agent_id], self.goal_position[agent_id]):\n",
    "                reward[agent_id] = 10\n",
    "                self.update_counters(agent_id)\n",
    "            else:\n",
    "                reward[agent_id] = -1\n",
    "            \n",
    "            self.state[agent_id] = np.concatenate([\n",
    "                self.agent_position[agent_id], \n",
    "                self.goal_position[agent_id], \n",
    "                self.edge_capacity[self.agent_position[agent_id][0]][self.agent_position[agent_id][1]]\n",
    "                ])\n",
    "        # if all agents are done, set the __all__ flag\n",
    "        self.done_flag[\"__all__\"] = all(self.done_flag[agent_key] for agent_key in self.done_flag if agent_key.startswith('agent_'))\n",
    "        # only return observations for active agents\n",
    "        observation = {agent: self.state[agent] for agent in initial_active_agent if agent in self.state}\n",
    "        \n",
    "        return observation, reward, self.done_flag, {}\n",
    "        #print(\"state \", self.state)\n",
    "        #print(\"change pin flag \", self.change_pin_flag)\n",
    "        #print(\"reward \", reward)\n",
    "\n",
    "    def update_counters(self, agent_id:str):\n",
    "        # one 2-pin net within one multi-pin net is done\n",
    "        self.pin_counter[agent_id] += 1\n",
    "        self.change_pin_flag[agent_id] = True\n",
    "        net_id = int(agent_id.split(\"_\")[1])\n",
    "\n",
    "        if self.pin_counter[agent_id] == len(self.nets[net_id]) - 1:\n",
    "            # this agent is done, it has routed all the pins\n",
    "            #self.pin_counter[agent_id] -= 1\n",
    "            self.change_pin_flag[agent_id] = False\n",
    "            self.done_flag[agent_id] = True\n",
    "    \n",
    "    def render(self):\n",
    "        \"\"\"Plot the agent's path.\"\"\"\n",
    "        colors = cm.rainbow(np.linspace(0, 1, len(self.agents_id)))\n",
    "        i = 0\n",
    "        for agent_id in self.agents_id:\n",
    "            color = colors[i]\n",
    "            i += 1\n",
    "            for j in range(len(self.path_x[agent_id])):\n",
    "                plt.plot(self.path_x[agent_id][j], self.path_y[agent_id][j], color = color)\n",
    "\n",
    "        # plot the pins\n",
    "        i = 0\n",
    "        for net in self.nets:\n",
    "            color = colors[i]\n",
    "            x_coords, y_coords = zip(*net)\n",
    "            plt.scatter(x_coords, y_coords, color = color)\n",
    "            i += 1\n",
    "        \n",
    "        # plot the macro pins\n",
    "        for point in self.macros:\n",
    "            x, y = point\n",
    "            plt.scatter(x,y, color='black')\n",
    "\n",
    "        # set the labels and title\n",
    "        plt.xlabel('X')\n",
    "        plt.ylabel('Y')\n",
    "        plt.title('Nets')\n",
    "\n",
    "        # set the x and y axis ticks\n",
    "        plt.xticks(range(0, self.length))\n",
    "        plt.yticks(range(0, self.width))\n",
    "\n",
    "        # set the grid\n",
    "        plt.grid(color='blue', linestyle='--', linewidth=0.5)\n",
    "\n",
    "        # show the plot\n",
    "        plt.show()\n",
    "\n",
    "    def heatmap(self):\n",
    "        \"\"\"Generate the horizontal and vertical edge usage heat maps.\"\"\"\n",
    "        horizontal_edge_index = 1 # indices for the up and right edge\n",
    "        vertical_edge_index = 0\n",
    "        shape = self.edge_capacity.shape\n",
    "        horizontal_usage = self.edge_capacity[0:shape[0]-1, :, [horizontal_edge_index]].squeeze().transpose()\n",
    "        vertical_usage = self.edge_capacity[:, 0:shape[1]-1, [vertical_edge_index]].squeeze().transpose()\n",
    "        ticks = np.arange(0,self.max_capacity)\n",
    "        \n",
    "        plt.figure()\n",
    "        sns.heatmap(horizontal_usage, annot=True, cmap=\"Reds\", square=True, cbar_kws={\"ticks\":ticks})\n",
    "        plt.gca().invert_yaxis()\n",
    "        plt.title(\"Horizontal Heat Map\")\n",
    "        plt.show()\n",
    "\n",
    "        plt.figure()\n",
    "        sns.heatmap(vertical_usage, annot=True, cmap=\"Reds\", square=True, cbar_kws={\"ticks\":ticks})\n",
    "        plt.gca().invert_yaxis()\n",
    "        plt.title(\"Vertical Heat Map\")\n",
    "        plt.show()\n",
    "\n",
    "    def reset(self):\n",
    "        #print(\"RESETTING...\")\n",
    "        self.reset_pin_counters()\n",
    "        #print(\"pin counters \", self.pin_counter)\n",
    "        self.step_counter = 0\n",
    "        self.change_pin_flag = self.reset_flags(self.change_pin_flag)\n",
    "        self.done_flag = self.reset_flags(self.done_flag)\n",
    "        self.done_flag[\"__all__\"] = False\n",
    "        #print(\"change pin flags \", self.change_pin_flag)\n",
    "        #print(\"done flags \", self.done_flag)\n",
    "        self.edge_capacity = self.initial_capacity.copy()\n",
    "        self.path_x = self.generate_path(self.nets)\n",
    "        self.path_y = self.generate_path(self.nets)\n",
    "        #print(\"path x \", self.path_x)\n",
    "        #print(\"path y \", self.path_y)\n",
    "        for agent_id in self.agents_id:\n",
    "            self.update_positions(agent_id)\n",
    "            self.update_path(agent_id)\n",
    "        #for agent_id in self.agents_id:\n",
    "            #self.update_path(agent_id)\n",
    "        #print(\"agent positions \", self.agent_position)\n",
    "        #print(\"goal positions \", self.goal_position)\n",
    "        #print(\"path x \", self.path_x)\n",
    "        #print(\"path y \", self.path_y)\n",
    "        for agent_id in self.agents_id:\n",
    "            individual_state = np.concatenate([\n",
    "                self.agent_position[agent_id], \n",
    "                self.goal_position[agent_id], \n",
    "                self.edge_capacity[self.agent_position[agent_id][0]][self.agent_position[agent_id][1]]\n",
    "                ])\n",
    "            self.state[agent_id] = individual_state\n",
    "        \n",
    "        return self.state\n"
   ]
  },
  {
   "cell_type": "code",
   "execution_count": 18,
   "metadata": {},
   "outputs": [
    {
     "name": "stdout",
     "output_type": "stream",
     "text": [
      "{'agent_0': array([2, 1, 2, 3, 6, 6, 6, 6]), 'agent_1': array([1, 4, 3, 4, 6, 6, 6, 6]), 'agent_2': array([1, 5, 1, 2, 6, 6, 6, 6]), 'agent_3': array([0, 5, 3, 5, 6, 6, 6, 6]), 'agent_4': array([3, 1, 4, 3, 6, 6, 6, 6]), 'agent_5': array([0, 0, 5, 0, 6, 6, 6, 6])}\n"
     ]
    },
    {
     "data": {
      "text/plain": [
       "'env.step_counter = 999\\nenv.pin_counter = {\"agent_0\":2, \"agent_1\":1, \"agent_2\":0, \"agent_3\":0, \"agent_4\":0, \"agent_5\":0}\\nenv.change_pin_flag = {\"agent_0\":True, \"agent_1\":True, \"agent_2\":False, \"agent_3\":False, \"agent_4\":False, \"agent_5\":False}\\naction = {\"agent_0\":0, \"agent_1\":1, \"agent_2\":2, \"agent_3\":3, \"agent_4\":0}\\nenv.step(action)'"
      ]
     },
     "execution_count": 18,
     "metadata": {},
     "output_type": "execute_result"
    }
   ],
   "source": [
    "nets = [[(2,1), (2,3), (3,3)],[(1,4), (3,4), (3,2)], [(1,5), (1,2)], [(0,5), (3,5), (2,2)], [(3,1), (4,3)], [(0,0), (5,0), (5,5)]]\n",
    "macros = [(0,2), (0,4)]\n",
    "length = 6\n",
    "width = 6\n",
    "n_nets = len(nets)\n",
    "edge_capacity = np.full((length,width,4),n_nets)\n",
    "max_step = 1000\n",
    "\n",
    "env = RtGridEnv(length, width, nets, macros, edge_capacity, max_step)\n",
    "obs = env.reset()\n",
    "print(obs)\n",
    "\n",
    "'''env.step_counter = 999\n",
    "env.pin_counter = {\"agent_0\":2, \"agent_1\":1, \"agent_2\":0, \"agent_3\":0, \"agent_4\":0, \"agent_5\":0}\n",
    "env.change_pin_flag = {\"agent_0\":True, \"agent_1\":True, \"agent_2\":False, \"agent_3\":False, \"agent_4\":False, \"agent_5\":False}\n",
    "action = {\"agent_0\":0, \"agent_1\":1, \"agent_2\":2, \"agent_3\":3, \"agent_4\":0}\n",
    "env.step(action)'''"
   ]
  },
  {
   "cell_type": "code",
   "execution_count": 5,
   "metadata": {},
   "outputs": [
    {
     "name": "stdout",
     "output_type": "stream",
     "text": [
      "obs  {'agent_0': array([2, 2, 2, 3, 6, 6, 5, 6]), 'agent_1': array([2, 4, 3, 4, 6, 6, 6, 5]), 'agent_2': array([1, 4, 1, 2, 5, 5, 6, 6]), 'agent_3': array([1, 5, 3, 5, 6, 6, 5, 5]), 'agent_4': array([4, 1, 4, 3, 6, 6, 6, 5]), 'agent_5': array([1, 0, 5, 0, 6, 6, 6, 5])}\n",
      "reward {'agent_0': -1, 'agent_1': -1, 'agent_2': -1, 'agent_3': -1, 'agent_4': -1, 'agent_5': -1}\n",
      "done {'agent_0': False, 'agent_1': False, 'agent_2': False, 'agent_3': False, 'agent_4': False, 'agent_5': False, '__all__': False}\n"
     ]
    }
   ],
   "source": [
    "action = {\"agent_0\":0, \"agent_1\":1, \"agent_2\":2, \"agent_3\":1, \"agent_4\":1, \"agent_5\":1}\n",
    "obs, reward, done, info = env.step(action)\n",
    "print(\"obs \", obs)\n",
    "print(\"reward\", reward)\n",
    "print(\"done\", done)\n",
    "\n"
   ]
  },
  {
   "cell_type": "code",
   "execution_count": 6,
   "metadata": {},
   "outputs": [
    {
     "name": "stdout",
     "output_type": "stream",
     "text": [
      "obs  {'agent_0': array([2, 3, 2, 3, 6, 6, 5, 6]), 'agent_1': array([3, 4, 3, 4, 6, 6, 6, 5]), 'agent_2': array([1, 3, 1, 2, 5, 6, 6, 6]), 'agent_3': array([2, 5, 3, 5, 6, 6, 6, 5]), 'agent_4': array([4, 2, 4, 3, 6, 6, 5, 6]), 'agent_5': array([2, 0, 5, 0, 6, 6, 6, 5])}\n",
      "reward {'agent_0': 1000, 'agent_1': 1000, 'agent_2': -1, 'agent_3': -1, 'agent_4': -1, 'agent_5': -1}\n",
      "done {'agent_0': False, 'agent_1': False, 'agent_2': False, 'agent_3': False, 'agent_4': False, 'agent_5': False, '__all__': False}\n"
     ]
    }
   ],
   "source": [
    "action = {\"agent_0\":0, \"agent_1\":1, \"agent_2\":2, \"agent_3\":1, \"agent_4\":0, \"agent_5\":1}\n",
    "obs, reward, done, info = env.step(action)\n",
    "print(\"obs \", obs)\n",
    "print(\"reward\", reward)\n",
    "print(\"done\", done)"
   ]
  },
  {
   "cell_type": "code",
   "execution_count": 7,
   "metadata": {},
   "outputs": [
    {
     "name": "stdout",
     "output_type": "stream",
     "text": [
      "obs  {'agent_0': array([2, 3, 3, 3, 6, 6, 5, 6]), 'agent_1': array([3, 4, 3, 2, 6, 6, 6, 5]), 'agent_2': array([1, 2, 1, 2, 5, 6, 6, 6]), 'agent_3': array([3, 5, 3, 5, 6, 6, 6, 5]), 'agent_4': array([4, 3, 4, 3, 6, 6, 5, 6]), 'agent_5': array([3, 0, 5, 0, 6, 6, 6, 5])}\n",
      "reward {'agent_1': 0, 'agent_0': 0, 'agent_2': 1000, 'agent_3': 1000, 'agent_4': 1000, 'agent_5': -1}\n",
      "done {'agent_0': False, 'agent_1': False, 'agent_2': True, 'agent_3': False, 'agent_4': True, 'agent_5': False, '__all__': False}\n"
     ]
    }
   ],
   "source": [
    "action = {\"agent_0\":0, \"agent_1\":1, \"agent_2\":2, \"agent_3\":1, \"agent_4\":0, \"agent_5\":1}\n",
    "obs, reward, done, info = env.step(action)\n",
    "print(\"obs \", obs)\n",
    "print(\"reward\", reward)\n",
    "print(\"done\", done)"
   ]
  },
  {
   "cell_type": "code",
   "execution_count": 8,
   "metadata": {},
   "outputs": [
    {
     "name": "stdout",
     "output_type": "stream",
     "text": [
      "obs  {'agent_0': array([3, 3, 3, 3, 6, 6, 6, 5]), 'agent_1': array([3, 3, 3, 2, 5, 6, 6, 5]), 'agent_3': array([3, 5, 2, 2, 6, 6, 6, 5]), 'agent_5': array([4, 0, 5, 0, 6, 6, 6, 5])}\n",
      "reward {'agent_3': 0, 'agent_0': 1000, 'agent_1': -1, 'agent_5': -1}\n",
      "done {'agent_0': True, 'agent_1': False, 'agent_2': True, 'agent_3': False, 'agent_4': True, 'agent_5': False, '__all__': False}\n"
     ]
    }
   ],
   "source": [
    "action = {\"agent_0\":1, \"agent_1\":2,  \"agent_3\":1, \"agent_5\":1}\n",
    "obs, reward, done, info = env.step(action)\n",
    "print(\"obs \", obs)\n",
    "print(\"reward\", reward)\n",
    "print(\"done\", done)"
   ]
  },
  {
   "cell_type": "code",
   "execution_count": 9,
   "metadata": {},
   "outputs": [
    {
     "name": "stdout",
     "output_type": "stream",
     "text": [
      "obs  {'agent_1': array([3, 2, 3, 2, 5, 6, 6, 6]), 'agent_3': array([2, 5, 2, 2, 6, 4, 6, 5]), 'agent_5': array([5, 0, 5, 0, 6, 6, 6, 5])}\n",
      "reward {'agent_1': 1000, 'agent_3': -1, 'agent_5': 1000}\n",
      "done {'agent_0': True, 'agent_1': True, 'agent_2': True, 'agent_3': False, 'agent_4': True, 'agent_5': False, '__all__': False}\n"
     ]
    }
   ],
   "source": [
    "action = { \"agent_1\":2,  \"agent_3\":3, \"agent_5\":1}\n",
    "obs, reward, done, info = env.step(action)\n",
    "print(\"obs \", obs)\n",
    "print(\"reward\", reward)\n",
    "print(\"done\", done)"
   ]
  },
  {
   "cell_type": "code",
   "execution_count": 10,
   "metadata": {},
   "outputs": [
    {
     "name": "stdout",
     "output_type": "stream",
     "text": [
      "obs  {'agent_3': array([2, 4, 2, 2, 5, 5, 6, 5]), 'agent_5': array([5, 0, 5, 5, 6, 6, 6, 5])}\n",
      "reward {'agent_5': 0, 'agent_3': -1}\n",
      "done {'agent_0': True, 'agent_1': True, 'agent_2': True, 'agent_3': False, 'agent_4': True, 'agent_5': False, '__all__': False}\n"
     ]
    }
   ],
   "source": [
    "action = {\"agent_3\":2, \"agent_5\":2}\n",
    "obs, reward, done, info = env.step(action)\n",
    "print(\"obs \", obs)\n",
    "print(\"reward\", reward)\n",
    "print(\"done\", done)"
   ]
  },
  {
   "cell_type": "code",
   "execution_count": 11,
   "metadata": {},
   "outputs": [
    {
     "name": "stdout",
     "output_type": "stream",
     "text": [
      "obs  {'agent_3': array([2, 3, 2, 2, 5, 5, 5, 6]), 'agent_5': array([5, 0, 5, 5, 6, 6, 6, 5])}\n",
      "reward {'agent_3': -1, 'agent_5': -1}\n",
      "done {'agent_0': True, 'agent_1': True, 'agent_2': True, 'agent_3': False, 'agent_4': True, 'agent_5': False, '__all__': False}\n"
     ]
    }
   ],
   "source": [
    "action = {\"agent_3\":2, \"agent_5\":1}\n",
    "obs, reward, done, info = env.step(action)\n",
    "print(\"obs \", obs)\n",
    "print(\"reward\", reward)\n",
    "print(\"done\", done)"
   ]
  },
  {
   "cell_type": "code",
   "execution_count": 12,
   "metadata": {},
   "outputs": [
    {
     "name": "stdout",
     "output_type": "stream",
     "text": [
      "obs  {'agent_3': array([2, 2, 2, 2, 4, 6, 5, 6]), 'agent_5': array([5, 1, 5, 5, 6, 6, 5, 6])}\n",
      "reward {'agent_3': 1000, 'agent_5': -1}\n",
      "done {'agent_0': True, 'agent_1': True, 'agent_2': True, 'agent_3': True, 'agent_4': True, 'agent_5': False, '__all__': False}\n"
     ]
    }
   ],
   "source": [
    "action = {\"agent_3\":2, \"agent_5\":0}\n",
    "obs, reward, done, info = env.step(action)\n",
    "print(\"obs \", obs)\n",
    "print(\"reward\", reward)\n",
    "print(\"done\", done)"
   ]
  },
  {
   "cell_type": "code",
   "execution_count": 13,
   "metadata": {},
   "outputs": [
    {
     "name": "stdout",
     "output_type": "stream",
     "text": [
      "obs  {'agent_5': array([5, 2, 5, 5, 6, 6, 5, 6])}\n",
      "reward {'agent_5': -1}\n",
      "done {'agent_0': True, 'agent_1': True, 'agent_2': True, 'agent_3': True, 'agent_4': True, 'agent_5': False, '__all__': False}\n"
     ]
    }
   ],
   "source": [
    "action = {\"agent_5\":0}\n",
    "obs, reward, done, info = env.step(action)\n",
    "print(\"obs \", obs)\n",
    "print(\"reward\", reward)\n",
    "print(\"done\", done)"
   ]
  },
  {
   "cell_type": "code",
   "execution_count": 14,
   "metadata": {},
   "outputs": [
    {
     "name": "stdout",
     "output_type": "stream",
     "text": [
      "{'agent_0': [[2, 2, 2], [2, 3]], 'agent_1': [[1, 2, 3], [3, 3, 3]], 'agent_2': [[1, 1, 1, 1]], 'agent_3': [[0, 1, 2, 3], [3, 2, 2, 2, 2]], 'agent_4': [[3, 4, 4, 4]], 'agent_5': [[0, 1, 2, 3, 4, 5], [5, 5, 5]]}\n",
      "{'agent_0': [[1, 2, 3], [3, 3]], 'agent_1': [[4, 4, 4], [4, 3, 2]], 'agent_2': [[5, 4, 3, 2]], 'agent_3': [[5, 5, 5, 5], [5, 5, 4, 3, 2]], 'agent_4': [[1, 1, 2, 3]], 'agent_5': [[0, 0, 0, 0, 0, 0], [0, 1, 2]]}\n"
     ]
    }
   ],
   "source": [
    "print(env.path_x)\n",
    "print(env.path_y)"
   ]
  },
  {
   "cell_type": "code",
   "execution_count": 35,
   "metadata": {},
   "outputs": [
    {
     "ename": "TypeError",
     "evalue": "'int' object is not subscriptable",
     "output_type": "error",
     "traceback": [
      "\u001b[0;31m---------------------------------------------------------------------------\u001b[0m",
      "\u001b[0;31mTypeError\u001b[0m                                 Traceback (most recent call last)",
      "Cell \u001b[0;32mIn[35], line 24\u001b[0m\n\u001b[1;32m     22\u001b[0m action \u001b[39m=\u001b[39m env\u001b[39m.\u001b[39maction_space\u001b[39m.\u001b[39msample()\n\u001b[1;32m     23\u001b[0m \u001b[39m# only agents that are not done will be provided an action\u001b[39;00m\n\u001b[0;32m---> 24\u001b[0m action \u001b[39m=\u001b[39m {agent: action[agent] \u001b[39mfor\u001b[39;00m agent \u001b[39min\u001b[39;00m done \u001b[39mif\u001b[39;00m \u001b[39mnot\u001b[39;00m done[agent] \u001b[39mand\u001b[39;00m agent \u001b[39m!=\u001b[39m \u001b[39m\"\u001b[39m\u001b[39m__all__\u001b[39m\u001b[39m\"\u001b[39m}\n\u001b[1;32m     25\u001b[0m new_obs, reward, done, info \u001b[39m=\u001b[39m env\u001b[39m.\u001b[39mstep(action)\n\u001b[1;32m     26\u001b[0m \u001b[39m#print(new_obs)\u001b[39;00m\n\u001b[1;32m     27\u001b[0m \u001b[39m#total_reward += reward\u001b[39;00m\n\u001b[1;32m     28\u001b[0m     \n\u001b[1;32m     29\u001b[0m \u001b[39m#print(f\"episode: {ep}\")\u001b[39;00m\n\u001b[1;32m     30\u001b[0m \u001b[39m#print(f\"obs: {new_obs}, reward: {total_reward}, done: {done}\")\u001b[39;00m\n",
      "Cell \u001b[0;32mIn[35], line 24\u001b[0m, in \u001b[0;36m<dictcomp>\u001b[0;34m(.0)\u001b[0m\n\u001b[1;32m     22\u001b[0m action \u001b[39m=\u001b[39m env\u001b[39m.\u001b[39maction_space\u001b[39m.\u001b[39msample()\n\u001b[1;32m     23\u001b[0m \u001b[39m# only agents that are not done will be provided an action\u001b[39;00m\n\u001b[0;32m---> 24\u001b[0m action \u001b[39m=\u001b[39m {agent: action[agent] \u001b[39mfor\u001b[39;00m agent \u001b[39min\u001b[39;00m done \u001b[39mif\u001b[39;00m \u001b[39mnot\u001b[39;00m done[agent] \u001b[39mand\u001b[39;00m agent \u001b[39m!=\u001b[39m \u001b[39m\"\u001b[39m\u001b[39m__all__\u001b[39m\u001b[39m\"\u001b[39m}\n\u001b[1;32m     25\u001b[0m new_obs, reward, done, info \u001b[39m=\u001b[39m env\u001b[39m.\u001b[39mstep(action)\n\u001b[1;32m     26\u001b[0m \u001b[39m#print(new_obs)\u001b[39;00m\n\u001b[1;32m     27\u001b[0m \u001b[39m#total_reward += reward\u001b[39;00m\n\u001b[1;32m     28\u001b[0m     \n\u001b[1;32m     29\u001b[0m \u001b[39m#print(f\"episode: {ep}\")\u001b[39;00m\n\u001b[1;32m     30\u001b[0m \u001b[39m#print(f\"obs: {new_obs}, reward: {total_reward}, done: {done}\")\u001b[39;00m\n",
      "\u001b[0;31mTypeError\u001b[0m: 'int' object is not subscriptable"
     ]
    }
   ],
   "source": [
    "#nets = [[(2,1), (2,3), (3,3), (4,2)],[(1,4), (3,4), (4,4)]]\n",
    "#macros = [(0,2), (1,2)]\n",
    "nets = [[(2,1), (2,3), (3,3)],[(1,4), (3,4), (3,2)], [(1,5), (1,2)], [(0,5), (3,5), (2,2)], [(3,1), (4,3)], [(0,0), (5,0), (5,5)]]\n",
    "macros = [(0,2), (0,4)]\n",
    "length = 6\n",
    "width = 6\n",
    "n_nets = len(nets)\n",
    "edge_capacity = np.full((length,width,4),n_nets)\n",
    "max_step = 1000\n",
    "\n",
    "env = RtGridEnv(length, width, nets, macros, edge_capacity, max_step)\n",
    "num_episodes = 1\n",
    "\n",
    "for ep in range(num_episodes):\n",
    "    #total_reward = 0\n",
    "    obs = env.reset()\n",
    "    done = {}\n",
    "    for i in range(5):\n",
    "        done[\"agent_{}\".format(i)] = False\n",
    "    done[\"__all__\"] = False\n",
    "    while True:\n",
    "        action = env.action_space.sample()\n",
    "        # only agents that are not done will be provided an action\n",
    "        action = {agent: action[agent] for agent in done if not done[agent] and agent != \"__all__\"}\n",
    "        new_obs, reward, done, info = env.step(action)\n",
    "        #print(new_obs)\n",
    "        #total_reward += reward\n",
    "            \n",
    "        #print(f\"episode: {ep}\")\n",
    "        #print(f\"obs: {new_obs}, reward: {total_reward}, done: {done}\")\n",
    "        if done[\"__all__\"]:\n",
    "            print(reward)\n",
    "            break\n",
    "    #print(total_reward)\n",
    "    env.render()\n",
    "    env.heatmap()\n",
    "    #print(env.edge_capacity)"
   ]
  },
  {
   "cell_type": "code",
   "execution_count": 3,
   "metadata": {},
   "outputs": [
    {
     "name": "stderr",
     "output_type": "stream",
     "text": [
      "2023-08-04 11:11:11,874\tINFO worker.py:1538 -- Started a local Ray instance.\n"
     ]
    },
    {
     "data": {
      "text/html": [
       "<div>\n",
       "    <div style=\"margin-left: 50px;display: flex;flex-direction: row;align-items: center\">\n",
       "        <h3 style=\"color: var(--jp-ui-font-color0)\">Ray</h3>\n",
       "        <svg version=\"1.1\" id=\"ray\" width=\"3em\" viewBox=\"0 0 144.5 144.6\" style=\"margin-left: 3em;margin-right: 3em\">\n",
       "            <g id=\"layer-1\">\n",
       "                <path fill=\"#00a2e9\" class=\"st0\" d=\"M97.3,77.2c-3.8-1.1-6.2,0.9-8.3,5.1c-3.5,6.8-9.9,9.9-17.4,9.6S58,88.1,54.8,81.2c-1.4-3-3-4-6.3-4.1\n",
       "                    c-5.6-0.1-9.9,0.1-13.1,6.4c-3.8,7.6-13.6,10.2-21.8,7.6C5.2,88.4-0.4,80.5,0,71.7c0.1-8.4,5.7-15.8,13.8-18.2\n",
       "                    c8.4-2.6,17.5,0.7,22.3,8c1.3,1.9,1.3,5.2,3.6,5.6c3.9,0.6,8,0.2,12,0.2c1.8,0,1.9-1.6,2.4-2.8c3.5-7.8,9.7-11.8,18-11.9\n",
       "                    c8.2-0.1,14.4,3.9,17.8,11.4c1.3,2.8,2.9,3.6,5.7,3.3c1-0.1,2,0.1,3,0c2.8-0.5,6.4,1.7,8.1-2.7s-2.3-5.5-4.1-7.5\n",
       "                    c-5.1-5.7-10.9-10.8-16.1-16.3C84,38,81.9,37.1,78,38.3C66.7,42,56.2,35.7,53,24.1C50.3,14,57.3,2.8,67.7,0.5\n",
       "                    C78.4-2,89,4.7,91.5,15.3c0.1,0.3,0.1,0.5,0.2,0.8c0.7,3.4,0.7,6.9-0.8,9.8c-1.7,3.2-0.8,5,1.5,7.2c6.7,6.5,13.3,13,19.8,19.7\n",
       "                    c1.8,1.8,3,2.1,5.5,1.2c9.1-3.4,17.9-0.6,23.4,7c4.8,6.9,4.6,16.1-0.4,22.9c-5.4,7.2-14.2,9.9-23.1,6.5c-2.3-0.9-3.5-0.6-5.1,1.1\n",
       "                    c-6.7,6.9-13.6,13.7-20.5,20.4c-1.8,1.8-2.5,3.2-1.4,5.9c3.5,8.7,0.3,18.6-7.7,23.6c-7.9,5-18.2,3.8-24.8-2.9\n",
       "                    c-6.4-6.4-7.4-16.2-2.5-24.3c4.9-7.8,14.5-11,23.1-7.8c3,1.1,4.7,0.5,6.9-1.7C91.7,98.4,98,92.3,104.2,86c1.6-1.6,4.1-2.7,2.6-6.2\n",
       "                    c-1.4-3.3-3.8-2.5-6.2-2.6C99.8,77.2,98.9,77.2,97.3,77.2z M72.1,29.7c5.5,0.1,9.9-4.3,10-9.8c0-0.1,0-0.2,0-0.3\n",
       "                    C81.8,14,77,9.8,71.5,10.2c-5,0.3-9,4.2-9.3,9.2c-0.2,5.5,4,10.1,9.5,10.3C71.8,29.7,72,29.7,72.1,29.7z M72.3,62.3\n",
       "                    c-5.4-0.1-9.9,4.2-10.1,9.7c0,0.2,0,0.3,0,0.5c0.2,5.4,4.5,9.7,9.9,10c5.1,0.1,9.9-4.7,10.1-9.8c0.2-5.5-4-10-9.5-10.3\n",
       "                    C72.6,62.3,72.4,62.3,72.3,62.3z M115,72.5c0.1,5.4,4.5,9.7,9.8,9.9c5.6-0.2,10-4.8,10-10.4c-0.2-5.4-4.6-9.7-10-9.7\n",
       "                    c-5.3-0.1-9.8,4.2-9.9,9.5C115,72.1,115,72.3,115,72.5z M19.5,62.3c-5.4,0.1-9.8,4.4-10,9.8c-0.1,5.1,5.2,10.4,10.2,10.3\n",
       "                    c5.6-0.2,10-4.9,9.8-10.5c-0.1-5.4-4.5-9.7-9.9-9.6C19.6,62.3,19.5,62.3,19.5,62.3z M71.8,134.6c5.9,0.2,10.3-3.9,10.4-9.6\n",
       "                    c0.5-5.5-3.6-10.4-9.1-10.8c-5.5-0.5-10.4,3.6-10.8,9.1c0,0.5,0,0.9,0,1.4c-0.2,5.3,4,9.8,9.3,10\n",
       "                    C71.6,134.6,71.7,134.6,71.8,134.6z\"/>\n",
       "            </g>\n",
       "        </svg>\n",
       "        <table>\n",
       "            <tr>\n",
       "                <td style=\"text-align: left\"><b>Python version:</b></td>\n",
       "                <td style=\"text-align: left\"><b>3.10.9</b></td>\n",
       "            </tr>\n",
       "            <tr>\n",
       "                <td style=\"text-align: left\"><b>Ray version:</b></td>\n",
       "                <td style=\"text-align: left\"><b> 2.2.0</b></td>\n",
       "            </tr>\n",
       "            \n",
       "        </table>\n",
       "    </div>\n",
       "</div>\n"
      ],
      "text/plain": [
       "RayContext(dashboard_url='', python_version='3.10.9', ray_version='2.2.0', ray_commit='b6af0887ee5f2e460202133791ad941a41f15beb', address_info={'node_ip_address': '10.0.0.81', 'raylet_ip_address': '10.0.0.81', 'redis_address': None, 'object_store_address': '/tmp/ray/session_2023-08-04_11-11-10_011304_32426/sockets/plasma_store', 'raylet_socket_name': '/tmp/ray/session_2023-08-04_11-11-10_011304_32426/sockets/raylet', 'webui_url': '', 'session_dir': '/tmp/ray/session_2023-08-04_11-11-10_011304_32426', 'metrics_export_port': 54461, 'gcs_address': '10.0.0.81:50963', 'address': '10.0.0.81:50963', 'dashboard_agent_listen_port': 52365, 'node_id': '56a9cdda323fc5ec2b7ed7a28514fac8b28cc042b333fa82a1bca568'})"
      ]
     },
     "execution_count": 3,
     "metadata": {},
     "output_type": "execute_result"
    }
   ],
   "source": [
    "ray.init(ignore_reinit_error=True)"
   ]
  },
  {
   "cell_type": "code",
   "execution_count": 19,
   "metadata": {},
   "outputs": [
    {
     "name": "stdout",
     "output_type": "stream",
     "text": [
      "checking environment ...\n",
      "All checks passed. No errors found.\n"
     ]
    }
   ],
   "source": [
    "# check the environment\n",
    "register_env(\"routing_grid_env\", lambda config: RtGridEnv(length, width, nets, macros, edge_capacity, max_step))\n",
    "env = RtGridEnv(length, width, nets, macros, edge_capacity, max_step)\n",
    "\n",
    "print(\"checking environment ...\")\n",
    "try:\n",
    "    check_env(env)\n",
    "    print(\"All checks passed. No errors found.\")\n",
    "except:\n",
    "    print(\"failed\")\n",
    "    print(check_env(env))"
   ]
  },
  {
   "cell_type": "code",
   "execution_count": 20,
   "metadata": {},
   "outputs": [
    {
     "name": "stderr",
     "output_type": "stream",
     "text": [
      "\u001b[2m\u001b[36m(RolloutWorker pid=34171)\u001b[0m 2023-08-04 11:37:23,573\tWARNING env.py:247 -- Your MultiAgentEnv <RtGridEnv instance> does not have some or all of the needed base-class attributes! Make sure you call `super().__init__` from within your MutiAgentEnv's constructor. This will raise an error in the future.\n",
      "\u001b[2m\u001b[36m(RolloutWorker pid=34271)\u001b[0m 2023-08-04 11:37:27,685\tWARNING env.py:247 -- Your MultiAgentEnv <RtGridEnv instance> does not have some or all of the needed base-class attributes! Make sure you call `super().__init__` from within your MutiAgentEnv's constructor. This will raise an error in the future.\n",
      "2023-08-04 11:37:28,199\tWARNING util.py:66 -- Install gputil for GPU system monitoring.\n"
     ]
    }
   ],
   "source": [
    "#from ray.rllib.agents.ppo import PPOTrainer\n",
    "config = (\n",
    "    PPOConfig()\n",
    "    .environment(env = \"routing_grid_env\")\n",
    "    .rollouts(num_rollout_workers=2)\n",
    "    .evaluation(evaluation_interval=15, evaluation_duration=5, evaluation_num_workers=1)\n",
    "    .training(lr=0.00005, gamma=0.99)\n",
    ")\n",
    "#trainer = PPOTrainer(config=config)\n",
    "algo = config.build()"
   ]
  },
  {
   "cell_type": "code",
   "execution_count": 21,
   "metadata": {},
   "outputs": [
    {
     "name": "stdout",
     "output_type": "stream",
     "text": [
      "[-4061.25, -3792.125, -3867.0, -3796.5, -3834.95, -3916.5, -3827.8928571428573, -3638.53125, -3598.25, -3420.475, -3318.659090909091, -3215.875, -3167.75, -3056.9285714285716, -3054.2833333333333, -3010.59375, -2937.794117647059, -2890.8055555555557, -2771.4415584415583, -2646.144578313253, -2569.0898876404494, -2404.6020408163267, -2038.54, -1667.6, -1543.76, -1205.69, -821.31, -618.49, -199.62, -30.66, 42.38793103448276, 29.78, 53.32335329341317, 65.7, 72.48805460750853, 71.38271604938272, 77.27678571428571, 78.09037900874635, 79.02824858757062, 79.26685393258427]\n"
     ]
    }
   ],
   "source": [
    "# train the new agent using RLlib.train() in a loop\n",
    "num_iterations = 40\n",
    "rewards = []\n",
    "checkpoint_dir = \"saved_runs/trial/\"\n",
    "\n",
    "for i in range(num_iterations):\n",
    "    result = algo.train()\n",
    "    rewards.append(result[\"episode_reward_mean\"])\n",
    "\n",
    "    # save a checkpoint and evaluate the policy at the end of the training\n",
    "    if (i==num_iterations-1):\n",
    "        checkpoint_file = algo.save(checkpoint_dir)\n",
    "        eval_result = algo.evaluate()\n",
    "print(rewards)\n",
    "#print(eval_result)\n",
    "#print(result)"
   ]
  },
  {
   "cell_type": "code",
   "execution_count": 22,
   "metadata": {},
   "outputs": [
    {
     "name": "stdout",
     "output_type": "stream",
     "text": [
      "{'agent_0': [[2, 2, 2], [2, 3]], 'agent_1': [[1, 2, 3], [3, 3, 3]], 'agent_2': [[1, 1, 1, 1]], 'agent_3': [[0, 1, 2, 3], [3, 3, 3, 3, 2]], 'agent_4': [[3, 3, 3, 4]], 'agent_5': [[0, 1, 2, 3, 4, 5], [5, 5, 5, 5, 5, 5]]}\n",
      "{'agent_0': [[1, 2, 3], [3, 3]], 'agent_1': [[4, 4, 4], [4, 3, 2]], 'agent_2': [[5, 4, 3, 2]], 'agent_3': [[5, 5, 5, 5], [5, 4, 3, 2, 2]], 'agent_4': [[1, 2, 3, 3]], 'agent_5': [[0, 0, 0, 0, 0, 0], [0, 1, 2, 3, 4, 5]]}\n"
     ]
    },
    {
     "data": {
      "image/png": "[encoded data removed]",
      "text/plain": [
       "<Figure size 640x480 with 1 Axes>"
      ]
     },
     "metadata": {},
     "output_type": "display_data"
    },
    {
     "data": {
      "image/png": "[encoded data removed]",
      "text/plain": [
       "<Figure size 640x480 with 2 Axes>"
      ]
     },
     "metadata": {},
     "output_type": "display_data"
    },
    {
     "data": {
      "image/png": "[encoded data removed]",
      "text/plain": [
       "<Figure size 640x480 with 2 Axes>"
      ]
     },
     "metadata": {},
     "output_type": "display_data"
    },
    {
     "name": "stdout",
     "output_type": "stream",
     "text": [
      "{'agent_0': [[2, 2, 2], [2, 3]], 'agent_1': [[1, 2, 3], [3, 3, 3]], 'agent_2': [[1, 1, 1, 1]], 'agent_3': [[0, 1, 2, 3], [3, 3, 3, 3, 2]], 'agent_4': [[3, 3, 3, 4]], 'agent_5': [[0, 1, 2, 3, 4, 5], [5, 5, 5, 5, 5, 5]]}\n",
      "{'agent_0': [[1, 2, 3], [3, 3]], 'agent_1': [[4, 4, 4], [4, 3, 2]], 'agent_2': [[5, 4, 3, 2]], 'agent_3': [[5, 5, 5, 5], [5, 4, 3, 2, 2]], 'agent_4': [[1, 2, 3, 3]], 'agent_5': [[0, 0, 0, 0, 0, 0], [0, 1, 2, 3, 4, 5]]}\n"
     ]
    },
    {
     "data": {
      "image/png": "[encoded data removed]",
      "text/plain": [
       "<Figure size 640x480 with 1 Axes>"
      ]
     },
     "metadata": {},
     "output_type": "display_data"
    },
    {
     "data": {
      "image/png": "[encoded data removed]",
      "text/plain": [
       "<Figure size 640x480 with 2 Axes>"
      ]
     },
     "metadata": {},
     "output_type": "display_data"
    },
    {
     "data": {
      "image/png": "[encoded data removed]",
      "text/plain": [
       "<Figure size 640x480 with 2 Axes>"
      ]
     },
     "metadata": {},
     "output_type": "display_data"
    },
    {
     "name": "stdout",
     "output_type": "stream",
     "text": [
      "{'agent_0': [[2, 2, 2], [2, 3]], 'agent_1': [[1, 2, 3], [3, 3, 3]], 'agent_2': [[1, 1, 1, 1]], 'agent_3': [[0, 1, 2, 3], [3, 3, 3, 3, 2]], 'agent_4': [[3, 3, 3, 4]], 'agent_5': [[0, 1, 2, 3, 4, 5], [5, 5, 5, 5, 5, 5]]}\n",
      "{'agent_0': [[1, 2, 3], [3, 3]], 'agent_1': [[4, 4, 4], [4, 3, 2]], 'agent_2': [[5, 4, 3, 2]], 'agent_3': [[5, 5, 5, 5], [5, 4, 3, 2, 2]], 'agent_4': [[1, 2, 3, 3]], 'agent_5': [[0, 0, 0, 0, 0, 0], [0, 1, 2, 3, 4, 5]]}\n"
     ]
    },
    {
     "data": {
      "image/png": "[encoded data removed]",
      "text/plain": [
       "<Figure size 640x480 with 1 Axes>"
      ]
     },
     "metadata": {},
     "output_type": "display_data"
    },
    {
     "data": {
      "image/png": "[encoded data removed]",
      "text/plain": [
       "<Figure size 640x480 with 2 Axes>"
      ]
     },
     "metadata": {},
     "output_type": "display_data"
    },
    {
     "data": {
      "image/png": "[encoded data removed]",
      "text/plain": [
       "<Figure size 640x480 with 2 Axes>"
      ]
     },
     "metadata": {},
     "output_type": "display_data"
    }
   ],
   "source": [
    "num_episodes = 3\n",
    "for ep in range(num_episodes):\n",
    "    #total_reward = 0\n",
    "    obs = env.reset()\n",
    "    done = {}\n",
    "    for i in range(5):\n",
    "        done[\"agent_{}\".format(i)] = False\n",
    "    done[\"__all__\"] = False\n",
    "    while True:\n",
    "        action = algo.compute_actions(observations=obs, explore=False)\n",
    "        # only agents that are not done will be provided an action\n",
    "        action = {agent: action[agent] for agent in done if not done[agent] and agent != \"__all__\"}\n",
    "        new_obs, reward, done, info = env.step(action)\n",
    "        #print(new_obs)\n",
    "        #total_reward += reward\n",
    "            \n",
    "        #print(f\"episode: {ep}\")\n",
    "        #print(f\"obs: {new_obs}, reward: {total_reward}, done: {done}\")\n",
    "        if done[\"__all__\"]:\n",
    "            #print(reward)\n",
    "            break\n",
    "    #print(total_reward)\n",
    "    print(env.path_x)\n",
    "    print(env.path_y)\n",
    "    env.render()\n",
    "    env.heatmap()\n",
    "    #print(env.edge_capacity)"
   ]
  },
  {
   "cell_type": "code",
   "execution_count": null,
   "metadata": {},
   "outputs": [
    {
     "data": {
      "text/html": [
       "<div class=\"tuneStatus\">\n",
       "  <div style=\"display: flex;flex-direction: row\">\n",
       "    <div style=\"display: flex;flex-direction: column;\">\n",
       "      <h3>Tune Status</h3>\n",
       "      <table>\n",
       "<tbody>\n",
       "<tr><td>Current time:</td><td>2023-08-03 18:56:26</td></tr>\n",
       "<tr><td>Running for: </td><td>00:00:27.73        </td></tr>\n",
       "<tr><td>Memory:      </td><td>10.7/15.4 GiB      </td></tr>\n",
       "</tbody>\n",
       "</table>\n",
       "    </div>\n",
       "    <div class=\"vDivider\"></div>\n",
       "    <div class=\"systemInfo\">\n",
       "      <h3>System Info</h3>\n",
       "      Using FIFO scheduling algorithm.<br>Resources requested: 0/8 CPUs, 0/0 GPUs, 0.0/6.49 GiB heap, 0.0/3.25 GiB objects\n",
       "    </div>\n",
       "    <div class=\"vDivider\"></div>\n",
       "<div class=\"messages\">\n",
       "  <h3>Messages</h3>\n",
       "  \n",
       "  \n",
       "  Number of errored trials: 1<br><table>\n",
       "<thead>\n",
       "<tr><th>Trial name                      </th><th style=\"text-align: right;\">  # failures</th><th>error file                                                                                                         </th></tr>\n",
       "</thead>\n",
       "<tbody>\n",
       "<tr><td>PPO_routing_grid_env_0eb91_00000</td><td style=\"text-align: right;\">           1</td><td>/home/brucexi2/ray_results/PPO_2023-08-03_18-55-58/PPO_routing_grid_env_0eb91_00000_0_2023-08-03_18-55-59/error.txt</td></tr>\n",
       "</tbody>\n",
       "</table>\n",
       "</div>\n",
       "<style>\n",
       ".messages {\n",
       "  color: var(--jp-ui-font-color1);\n",
       "  display: flex;\n",
       "  flex-direction: column;\n",
       "  padding-left: 1em;\n",
       "  overflow-y: auto;\n",
       "}\n",
       ".messages h3 {\n",
       "  font-weight: bold;\n",
       "}\n",
       ".vDivider {\n",
       "  border-left-width: var(--jp-border-width);\n",
       "  border-left-color: var(--jp-border-color0);\n",
       "  border-left-style: solid;\n",
       "  margin: 0.5em 1em 0.5em 1em;\n",
       "}\n",
       "</style>\n",
       "\n",
       "  </div>\n",
       "  <div class=\"hDivider\"></div>\n",
       "  <div class=\"trialStatus\">\n",
       "    <h3>Trial Status</h3>\n",
       "    <table>\n",
       "<thead>\n",
       "<tr><th>Trial name                      </th><th>status  </th><th>loc            </th></tr>\n",
       "</thead>\n",
       "<tbody>\n",
       "<tr><td>PPO_routing_grid_env_0eb91_00000</td><td>ERROR   </td><td>10.0.0.81:37988</td></tr>\n",
       "</tbody>\n",
       "</table>\n",
       "  </div>\n",
       "</div>\n",
       "<style>\n",
       ".tuneStatus {\n",
       "  color: var(--jp-ui-font-color1);\n",
       "}\n",
       ".tuneStatus .systemInfo {\n",
       "  display: flex;\n",
       "  flex-direction: column;\n",
       "}\n",
       ".tuneStatus td {\n",
       "  white-space: nowrap;\n",
       "}\n",
       ".tuneStatus .trialStatus {\n",
       "  display: flex;\n",
       "  flex-direction: column;\n",
       "}\n",
       ".tuneStatus h3 {\n",
       "  font-weight: bold;\n",
       "}\n",
       ".tuneStatus .hDivider {\n",
       "  border-bottom-width: var(--jp-border-width);\n",
       "  border-bottom-color: var(--jp-border-color0);\n",
       "  border-bottom-style: solid;\n",
       "}\n",
       ".tuneStatus .vDivider {\n",
       "  border-left-width: var(--jp-border-width);\n",
       "  border-left-color: var(--jp-border-color0);\n",
       "  border-left-style: solid;\n",
       "  margin: 0.5em 1em 0.5em 1em;\n",
       "}\n",
       "</style>\n"
      ],
      "text/plain": [
       "<IPython.core.display.HTML object>"
      ]
     },
     "metadata": {},
     "output_type": "display_data"
    },
    {
     "name": "stderr",
     "output_type": "stream",
     "text": [
      "\u001b[2m\u001b[36m(PPO pid=37988)\u001b[0m 2023-08-03 18:56:01,792\tWARNING algorithm_config.py:488 -- Cannot create PPOConfig from given `config_dict`! Property __stdout_file__ not supported.\n",
      "\u001b[2m\u001b[36m(PPO pid=37988)\u001b[0m 2023-08-03 18:56:01,793\tINFO algorithm_config.py:2503 -- Your framework setting is 'tf', meaning you are using static-graph mode. Set framework='tf2' to enable eager execution with tf2.x. You may also then want to set eager_tracing=True in order to reach similar execution speed as with static-graph mode.\n",
      "\u001b[2m\u001b[36m(PPO pid=37988)\u001b[0m 2023-08-03 18:56:02,418\tINFO algorithm.py:501 -- Current log_level is WARN. For more information, set 'log_level': 'INFO' / 'DEBUG' or use the -v and -vv flags.\n",
      "2023-08-03 18:56:26,723\tERROR trial_runner.py:1088 -- Trial PPO_routing_grid_env_0eb91_00000: Error processing event.\n",
      "ray.exceptions.RayTaskError(TypeError): \u001b[36mray::PPO.train()\u001b[39m (pid=37988, ip=10.0.0.81, repr=PPO)\n",
      "  File \"/home/brucexi2/anaconda3/lib/python3.10/site-packages/ray/tune/trainable/trainable.py\", line 367, in train\n",
      "    raise skipped from exception_cause(skipped)\n",
      "  File \"/home/brucexi2/anaconda3/lib/python3.10/site-packages/ray/tune/trainable/trainable.py\", line 364, in train\n",
      "    result = self.step()\n",
      "  File \"/home/brucexi2/anaconda3/lib/python3.10/site-packages/ray/rllib/algorithms/algorithm.py\", line 749, in step\n",
      "    results, train_iter_ctx = self._run_one_training_iteration()\n",
      "  File \"/home/brucexi2/anaconda3/lib/python3.10/site-packages/ray/rllib/algorithms/algorithm.py\", line 2623, in _run_one_training_iteration\n",
      "    results = self.training_step()\n",
      "  File \"/home/brucexi2/anaconda3/lib/python3.10/site-packages/ray/rllib/algorithms/ppo/ppo.py\", line 318, in training_step\n",
      "    train_batch = synchronous_parallel_sample(\n",
      "  File \"/home/brucexi2/anaconda3/lib/python3.10/site-packages/ray/rllib/execution/rollout_ops.py\", line 85, in synchronous_parallel_sample\n",
      "    sample_batches = worker_set.foreach_worker(\n",
      "  File \"/home/brucexi2/anaconda3/lib/python3.10/site-packages/ray/rllib/evaluation/worker_set.py\", line 696, in foreach_worker\n",
      "    handle_remote_call_result_errors(remote_results, self._ignore_worker_failures)\n",
      "  File \"/home/brucexi2/anaconda3/lib/python3.10/site-packages/ray/rllib/evaluation/worker_set.py\", line 73, in handle_remote_call_result_errors\n",
      "    raise r.get()\n",
      "ray.exceptions.RayTaskError(TypeError): \u001b[36mray::RolloutWorker.apply()\u001b[39m (pid=38042, ip=10.0.0.81, repr=<ray.rllib.evaluation.rollout_worker.RolloutWorker object at 0x7fb4ded43ee0>)\n",
      "  File \"/home/brucexi2/anaconda3/lib/python3.10/site-packages/ray/rllib/utils/actor_manager.py\", line 183, in apply\n",
      "    raise e\n",
      "  File \"/home/brucexi2/anaconda3/lib/python3.10/site-packages/ray/rllib/utils/actor_manager.py\", line 174, in apply\n",
      "    return func(self, *args, **kwargs)\n",
      "  File \"/home/brucexi2/anaconda3/lib/python3.10/site-packages/ray/rllib/execution/rollout_ops.py\", line 86, in <lambda>\n",
      "    lambda w: w.sample(), local_worker=False, healthy_only=True\n",
      "  File \"/home/brucexi2/anaconda3/lib/python3.10/site-packages/ray/rllib/evaluation/rollout_worker.py\", line 900, in sample\n",
      "    batches = [self.input_reader.next()]\n",
      "  File \"/home/brucexi2/anaconda3/lib/python3.10/site-packages/ray/rllib/evaluation/sampler.py\", line 92, in next\n",
      "    batches = [self.get_data()]\n",
      "  File \"/home/brucexi2/anaconda3/lib/python3.10/site-packages/ray/rllib/evaluation/sampler.py\", line 285, in get_data\n",
      "    item = next(self._env_runner)\n",
      "  File \"/home/brucexi2/anaconda3/lib/python3.10/site-packages/ray/rllib/evaluation/sampler.py\", line 660, in _env_runner\n",
      "    unfiltered_obs, rewards, dones, infos, off_policy_actions = base_env.poll()\n",
      "  File \"/home/brucexi2/anaconda3/lib/python3.10/site-packages/ray/rllib/env/multi_agent_env.py\", line 596, in poll\n",
      "    obs[i], rewards[i], dones[i], infos[i] = env_state.poll()\n",
      "  File \"/home/brucexi2/anaconda3/lib/python3.10/site-packages/ray/rllib/env/multi_agent_env.py\", line 754, in poll\n",
      "    self.reset()\n",
      "  File \"/home/brucexi2/anaconda3/lib/python3.10/site-packages/ray/rllib/env/multi_agent_env.py\", line 818, in reset\n",
      "    raise e\n",
      "  File \"/home/brucexi2/anaconda3/lib/python3.10/site-packages/ray/rllib/env/multi_agent_env.py\", line 812, in reset\n",
      "    self.last_obs = self.env.reset()\n",
      "  File \"/tmp/ipykernel_36920/758910961.py\", line 382, in reset\n",
      "  File \"/tmp/ipykernel_36920/758910961.py\", line 102, in reset_pin_counters\n",
      "TypeError: 'set' object is not subscriptable\n"
     ]
    },
    {
     "data": {
      "text/html": [
       "<div class=\"trialProgress\">\n",
       "  <h3>Trial Progress</h3>\n",
       "  <table>\n",
       "<thead>\n",
       "<tr><th>Trial name                      </th><th>date               </th><th>experiment_id                   </th><th>hostname  </th><th>node_ip  </th><th style=\"text-align: right;\">  pid</th><th style=\"text-align: right;\">  timestamp</th><th>trial_id  </th></tr>\n",
       "</thead>\n",
       "<tbody>\n",
       "<tr><td>PPO_routing_grid_env_0eb91_00000</td><td>2023-08-03_18-56-26</td><td>ee357a1115d24dfb9f28c0392d23759a</td><td>brucexi2  </td><td>10.0.0.81</td><td style=\"text-align: right;\">37988</td><td style=\"text-align: right;\"> 1691114186</td><td>default   </td></tr>\n",
       "</tbody>\n",
       "</table>\n",
       "</div>\n",
       "<style>\n",
       ".trialProgress {\n",
       "  display: flex;\n",
       "  flex-direction: column;\n",
       "  color: var(--jp-ui-font-color1);\n",
       "}\n",
       ".trialProgress h3 {\n",
       "  font-weight: bold;\n",
       "}\n",
       ".trialProgress td {\n",
       "  white-space: nowrap;\n",
       "}\n",
       "</style>\n"
      ],
      "text/plain": [
       "<IPython.core.display.HTML object>"
      ]
     },
     "metadata": {},
     "output_type": "display_data"
    },
    {
     "name": "stderr",
     "output_type": "stream",
     "text": [
      "\u001b[2m\u001b[36m(PPO pid=37988)\u001b[0m 2023-08-03 18:56:26,707\tINFO trainable.py:172 -- Trainable.setup took 24.290 seconds. If your trainable is slow to initialize, consider setting reuse_actors=True to reduce actor creation overheads.\n",
      "\u001b[2m\u001b[36m(PPO pid=37988)\u001b[0m 2023-08-03 18:56:26,707\tWARNING util.py:66 -- Install gputil for GPU system monitoring.\n",
      "\u001b[2m\u001b[36m(PPO pid=37988)\u001b[0m 2023-08-03 18:56:26,714\tERROR actor_manager.py:486 -- Ray error, taking actor 1 out of service. \u001b[36mray::RolloutWorker.apply()\u001b[39m (pid=38042, ip=10.0.0.81, repr=<ray.rllib.evaluation.rollout_worker.RolloutWorker object at 0x7fb4ded43ee0>)\n",
      "\u001b[2m\u001b[36m(PPO pid=37988)\u001b[0m   File \"/home/brucexi2/anaconda3/lib/python3.10/site-packages/ray/rllib/utils/actor_manager.py\", line 183, in apply\n",
      "\u001b[2m\u001b[36m(PPO pid=37988)\u001b[0m     raise e\n",
      "\u001b[2m\u001b[36m(PPO pid=37988)\u001b[0m   File \"/home/brucexi2/anaconda3/lib/python3.10/site-packages/ray/rllib/utils/actor_manager.py\", line 174, in apply\n",
      "\u001b[2m\u001b[36m(PPO pid=37988)\u001b[0m     return func(self, *args, **kwargs)\n",
      "\u001b[2m\u001b[36m(PPO pid=37988)\u001b[0m   File \"/home/brucexi2/anaconda3/lib/python3.10/site-packages/ray/rllib/execution/rollout_ops.py\", line 86, in <lambda>\n",
      "\u001b[2m\u001b[36m(PPO pid=37988)\u001b[0m     lambda w: w.sample(), local_worker=False, healthy_only=True\n",
      "\u001b[2m\u001b[36m(PPO pid=37988)\u001b[0m   File \"/home/brucexi2/anaconda3/lib/python3.10/site-packages/ray/rllib/evaluation/rollout_worker.py\", line 900, in sample\n",
      "\u001b[2m\u001b[36m(PPO pid=37988)\u001b[0m     batches = [self.input_reader.next()]\n",
      "\u001b[2m\u001b[36m(PPO pid=37988)\u001b[0m   File \"/home/brucexi2/anaconda3/lib/python3.10/site-packages/ray/rllib/evaluation/sampler.py\", line 92, in next\n",
      "\u001b[2m\u001b[36m(PPO pid=37988)\u001b[0m     batches = [self.get_data()]\n",
      "\u001b[2m\u001b[36m(PPO pid=37988)\u001b[0m   File \"/home/brucexi2/anaconda3/lib/python3.10/site-packages/ray/rllib/evaluation/sampler.py\", line 285, in get_data\n",
      "\u001b[2m\u001b[36m(PPO pid=37988)\u001b[0m     item = next(self._env_runner)\n",
      "\u001b[2m\u001b[36m(PPO pid=37988)\u001b[0m   File \"/home/brucexi2/anaconda3/lib/python3.10/site-packages/ray/rllib/evaluation/sampler.py\", line 660, in _env_runner\n",
      "\u001b[2m\u001b[36m(PPO pid=37988)\u001b[0m     unfiltered_obs, rewards, dones, infos, off_policy_actions = base_env.poll()\n",
      "\u001b[2m\u001b[36m(PPO pid=37988)\u001b[0m   File \"/home/brucexi2/anaconda3/lib/python3.10/site-packages/ray/rllib/env/multi_agent_env.py\", line 596, in poll\n",
      "\u001b[2m\u001b[36m(PPO pid=37988)\u001b[0m     obs[i], rewards[i], dones[i], infos[i] = env_state.poll()\n",
      "\u001b[2m\u001b[36m(PPO pid=37988)\u001b[0m   File \"/home/brucexi2/anaconda3/lib/python3.10/site-packages/ray/rllib/env/multi_agent_env.py\", line 754, in poll\n",
      "\u001b[2m\u001b[36m(PPO pid=37988)\u001b[0m     self.reset()\n",
      "\u001b[2m\u001b[36m(PPO pid=37988)\u001b[0m   File \"/home/brucexi2/anaconda3/lib/python3.10/site-packages/ray/rllib/env/multi_agent_env.py\", line 818, in reset\n",
      "\u001b[2m\u001b[36m(PPO pid=37988)\u001b[0m     raise e\n",
      "\u001b[2m\u001b[36m(PPO pid=37988)\u001b[0m   File \"/home/brucexi2/anaconda3/lib/python3.10/site-packages/ray/rllib/env/multi_agent_env.py\", line 812, in reset\n",
      "\u001b[2m\u001b[36m(PPO pid=37988)\u001b[0m     self.last_obs = self.env.reset()\n",
      "\u001b[2m\u001b[36m(PPO pid=37988)\u001b[0m   File \"/tmp/ipykernel_36920/758910961.py\", line 382, in reset\n",
      "\u001b[2m\u001b[36m(PPO pid=37988)\u001b[0m   File \"/tmp/ipykernel_36920/758910961.py\", line 102, in reset_pin_counters\n",
      "\u001b[2m\u001b[36m(PPO pid=37988)\u001b[0m TypeError: 'set' object is not subscriptable\n",
      "\u001b[2m\u001b[36m(PPO pid=37988)\u001b[0m 2023-08-03 18:56:26,715\tERROR actor_manager.py:486 -- Ray error, taking actor 2 out of service. \u001b[36mray::RolloutWorker.apply()\u001b[39m (pid=38043, ip=10.0.0.81, repr=<ray.rllib.evaluation.rollout_worker.RolloutWorker object at 0x7fef99b43e50>)\n",
      "\u001b[2m\u001b[36m(PPO pid=37988)\u001b[0m   File \"/home/brucexi2/anaconda3/lib/python3.10/site-packages/ray/rllib/utils/actor_manager.py\", line 183, in apply\n",
      "\u001b[2m\u001b[36m(PPO pid=37988)\u001b[0m     raise e\n",
      "\u001b[2m\u001b[36m(PPO pid=37988)\u001b[0m   File \"/home/brucexi2/anaconda3/lib/python3.10/site-packages/ray/rllib/utils/actor_manager.py\", line 174, in apply\n",
      "\u001b[2m\u001b[36m(PPO pid=37988)\u001b[0m     return func(self, *args, **kwargs)\n",
      "\u001b[2m\u001b[36m(PPO pid=37988)\u001b[0m   File \"/home/brucexi2/anaconda3/lib/python3.10/site-packages/ray/rllib/execution/rollout_ops.py\", line 86, in <lambda>\n",
      "\u001b[2m\u001b[36m(PPO pid=37988)\u001b[0m     lambda w: w.sample(), local_worker=False, healthy_only=True\n",
      "\u001b[2m\u001b[36m(PPO pid=37988)\u001b[0m   File \"/home/brucexi2/anaconda3/lib/python3.10/site-packages/ray/rllib/evaluation/rollout_worker.py\", line 900, in sample\n",
      "\u001b[2m\u001b[36m(PPO pid=37988)\u001b[0m     batches = [self.input_reader.next()]\n",
      "\u001b[2m\u001b[36m(PPO pid=37988)\u001b[0m   File \"/home/brucexi2/anaconda3/lib/python3.10/site-packages/ray/rllib/evaluation/sampler.py\", line 92, in next\n",
      "\u001b[2m\u001b[36m(PPO pid=37988)\u001b[0m     batches = [self.get_data()]\n",
      "\u001b[2m\u001b[36m(PPO pid=37988)\u001b[0m   File \"/home/brucexi2/anaconda3/lib/python3.10/site-packages/ray/rllib/evaluation/sampler.py\", line 285, in get_data\n",
      "\u001b[2m\u001b[36m(PPO pid=37988)\u001b[0m     item = next(self._env_runner)\n",
      "\u001b[2m\u001b[36m(PPO pid=37988)\u001b[0m   File \"/home/brucexi2/anaconda3/lib/python3.10/site-packages/ray/rllib/evaluation/sampler.py\", line 660, in _env_runner\n",
      "\u001b[2m\u001b[36m(PPO pid=37988)\u001b[0m     unfiltered_obs, rewards, dones, infos, off_policy_actions = base_env.poll()\n",
      "\u001b[2m\u001b[36m(PPO pid=37988)\u001b[0m   File \"/home/brucexi2/anaconda3/lib/python3.10/site-packages/ray/rllib/env/multi_agent_env.py\", line 596, in poll\n",
      "\u001b[2m\u001b[36m(PPO pid=37988)\u001b[0m     obs[i], rewards[i], dones[i], infos[i] = env_state.poll()\n",
      "\u001b[2m\u001b[36m(PPO pid=37988)\u001b[0m   File \"/home/brucexi2/anaconda3/lib/python3.10/site-packages/ray/rllib/env/multi_agent_env.py\", line 754, in poll\n",
      "\u001b[2m\u001b[36m(PPO pid=37988)\u001b[0m     self.reset()\n",
      "\u001b[2m\u001b[36m(PPO pid=37988)\u001b[0m   File \"/home/brucexi2/anaconda3/lib/python3.10/site-packages/ray/rllib/env/multi_agent_env.py\", line 818, in reset\n",
      "\u001b[2m\u001b[36m(PPO pid=37988)\u001b[0m     raise e\n",
      "\u001b[2m\u001b[36m(PPO pid=37988)\u001b[0m   File \"/home/brucexi2/anaconda3/lib/python3.10/site-packages/ray/rllib/env/multi_agent_env.py\", line 812, in reset\n",
      "\u001b[2m\u001b[36m(PPO pid=37988)\u001b[0m     self.last_obs = self.env.reset()\n",
      "\u001b[2m\u001b[36m(PPO pid=37988)\u001b[0m   File \"/tmp/ipykernel_36920/758910961.py\", line 382, in reset\n",
      "\u001b[2m\u001b[36m(PPO pid=37988)\u001b[0m   File \"/tmp/ipykernel_36920/758910961.py\", line 102, in reset_pin_counters\n",
      "\u001b[2m\u001b[36m(PPO pid=37988)\u001b[0m TypeError: 'set' object is not subscriptable\n",
      "2023-08-03 18:56:27,646\tERROR tune.py:758 -- Trials did not complete: [PPO_routing_grid_env_0eb91_00000]\n",
      "2023-08-03 18:56:27,647\tINFO tune.py:762 -- Total run time: 28.65 seconds (27.73 seconds for the tuning loop).\n"
     ]
    },
    {
     "data": {
      "text/plain": [
       "<ray.tune.result_grid.ResultGrid at 0x7fdec1562470>"
      ]
     },
     "execution_count": 9,
     "metadata": {},
     "output_type": "execute_result"
    }
   ],
   "source": [
    "stop_criteria = dict(time_total_s = 120)\n",
    "tune.Tuner(\n",
    "        config2.algo_class,\n",
    "        run_config=air.RunConfig(\n",
    "            stop=stop_criteria,\n",
    "            checkpoint_config=air.CheckpointConfig(\n",
    "                checkpoint_frequency=10,\n",
    "            ),\n",
    "        ),\n",
    "        param_space=config2.to_dict(),\n",
    "    ).fit()"
   ]
  }
 ],
 "metadata": {
  "kernelspec": {
   "display_name": "base",
   "language": "python",
   "name": "python3"
  },
  "language_info": {
   "codemirror_mode": {
    "name": "ipython",
    "version": 3
   },
   "file_extension": ".py",
   "mimetype": "text/x-python",
   "name": "python",
   "nbconvert_exporter": "python",
   "pygments_lexer": "ipython3",
   "version": "3.10.9"
  },
  "orig_nbformat": 4
 },
 "nbformat": 4,
 "nbformat_minor": 2
}
